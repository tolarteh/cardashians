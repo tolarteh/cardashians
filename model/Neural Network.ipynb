{
 "cells": [
  {
   "cell_type": "code",
   "execution_count": 1,
   "metadata": {
    "collapsed": true
   },
   "outputs": [],
   "source": [
    "%matplotlib inline\n",
    "\n",
    "import numpy as np\n",
    "import pandas as pd\n",
    "import matplotlib.pyplot as plt\n",
    "from sklearn import manifold\n",
    "from sklearn.model_selection import train_test_split"
   ]
  },
  {
   "cell_type": "markdown",
   "metadata": {},
   "source": [
    "### Relevant features\n",
    "Review **prob_bad** function to count correctly NaN\n",
    "\n",
    "(Relevance 1: good 3: bad)\n",
    "\n",
    "- (1) VehicleYear == VehicleAge\\*\n",
    "- (1) VehOdo: check correlation with the VehicleAge\n",
    "- (1) VNST: check inside ZIP codes how it behaves\n",
    "- (1) Size: SUV are bad, sports shame on you\n",
    "- (2) Make: check the best ones and the worst ones\n",
    "- (2) Auction = 'ADESA'\n",
    "- (?) WarrantyCost: continuous\n",
    "\n",
    "\n",
    "Not used for now:\n",
    "- (1) TopThreeAmericanName: group of Make\n",
    "- (2) PurchDate: check year and month\n",
    "- (2) PRIMEUNIT: if filled seems better\n",
    "- (2) AUCGUART: GREEN is good\n",
    "- (2) Model: try to combine maker and model (probability)\n",
    "- (2) Trim: Same as model\n",
    "- (2) WheelTypeID == WheelType\\* : 'Special' seems slightly bad\n",
    "- (2) VNZIP1 in combination with VNST\n",
    "- (3) SubModel: same as model\n",
    "- (-) Color: no relevance\n",
    "- (3) Transmission: Manual is slighly better\n",
    "- (-) Nationality: Country of the Make, check if 1-1\n",
    "- (?) MMR : continuous data\n",
    "- (?) BYRNO: goes hand in hand with Auction?\n",
    "- (?) VehBCost: continuous\n",
    "- (3) IsOnlineSale: online is sliiiiigghtly better"
   ]
  },
  {
   "cell_type": "code",
   "execution_count": 2,
   "metadata": {
    "collapsed": false
   },
   "outputs": [],
   "source": [
    "data = pd.read_csv('training.csv')"
   ]
  },
  {
   "cell_type": "code",
   "execution_count": 3,
   "metadata": {
    "collapsed": false
   },
   "outputs": [
    {
     "name": "stdout",
     "output_type": "stream",
     "text": [
      "Before dropped, length = 72983\n",
      "After dropped, length = 72667\n"
     ]
    }
   ],
   "source": [
    "# Choose the features\n",
    "all_features = ['IsBadBuy', 'Auction', 'VehicleAge', 'Make', 'VehOdo', 'Size', 'VNST', 'WarrantyCost',\n",
    "                'MMRAcquisitionAuctionAveragePrice', 'MMRAcquisitionAuctionCleanPrice', 'MMRAcquisitionRetailAveragePrice',\n",
    "                'MMRAcquisitonRetailCleanPrice', 'MMRCurrentAuctionAveragePrice', 'MMRCurrentAuctionCleanPrice',\n",
    "                'MMRCurrentRetailAveragePrice', 'MMRCurrentRetailCleanPrice']\n",
    "# Copy only the columns I want\n",
    "features = data.loc[:, all_features]\n",
    "# Erase for missing values\n",
    "print('Before dropped, length = {}'.format(len(features)))\n",
    "features.dropna(inplace=True)\n",
    "print('After dropped, length = {}'.format(len(features)))\n",
    "# Clean target from features\n",
    "target = features['IsBadBuy']\n",
    "features.drop('IsBadBuy', axis=1, inplace=True)"
   ]
  },
  {
   "cell_type": "code",
   "execution_count": 4,
   "metadata": {
    "collapsed": false
   },
   "outputs": [],
   "source": [
    "categorical_features = ['Auction', 'VehicleAge', 'Make', 'Size', 'VNST']\n",
    "encoded_features = pd.get_dummies(features, columns=categorical_features)"
   ]
  },
  {
   "cell_type": "code",
   "execution_count": 5,
   "metadata": {
    "collapsed": false
   },
   "outputs": [],
   "source": [
    "Xtrain, Xtest, ytrain, ytest = train_test_split(encoded_features, target, test_size=0.2, random_state=1)"
   ]
  },
  {
   "cell_type": "code",
   "execution_count": 6,
   "metadata": {
    "collapsed": true
   },
   "outputs": [],
   "source": [
    "import itertools\n",
    "import numpy as np\n",
    "import matplotlib.pyplot as plt\n",
    "from sklearn.metrics import confusion_matrix\n",
    "\n",
    "def plot_confusion_matrix(cm, classes=['Good', 'Bad'],\n",
    "                          normalize=False,\n",
    "                          title='Confusion matrix',\n",
    "                          cmap=plt.cm.Blues):\n",
    "    \"\"\"\n",
    "    This function prints and plots the confusion matrix.\n",
    "    Normalization can be applied by setting `normalize=True`.\n",
    "    \"\"\"\n",
    "    plt.imshow(cm, interpolation='nearest', cmap=cmap)\n",
    "    plt.title(title)\n",
    "    plt.colorbar()\n",
    "    tick_marks = np.arange(len(classes))\n",
    "    plt.xticks(tick_marks, classes, rotation=45)\n",
    "    plt.yticks(tick_marks, classes)\n",
    "\n",
    "    if normalize:\n",
    "        cm = cm.astype('float') / cm.sum(axis=1)[:, np.newaxis]\n",
    "        print(\"Normalized confusion matrix\")\n",
    "    else:\n",
    "        print('Confusion matrix, without normalization')\n",
    "\n",
    "    print(cm)\n",
    "\n",
    "    thresh = cm.max() / 2.\n",
    "    for i, j in itertools.product(range(cm.shape[0]), range(cm.shape[1])):\n",
    "        plt.text(j, i, cm[i, j],\n",
    "                 horizontalalignment=\"center\",\n",
    "                 color=\"white\" if cm[i, j] > thresh else \"black\")\n",
    "\n",
    "    plt.tight_layout()\n",
    "    plt.ylabel('True label')\n",
    "    plt.xlabel('Predicted label')"
   ]
  },
  {
   "cell_type": "markdown",
   "metadata": {},
   "source": [
    "### NN without scaling"
   ]
  },
  {
   "cell_type": "code",
   "execution_count": 7,
   "metadata": {
    "collapsed": false
   },
   "outputs": [
    {
     "data": {
      "text/plain": [
       "MLPClassifier(activation='relu', alpha=0.0001, batch_size='auto', beta_1=0.9,\n",
       "       beta_2=0.999, early_stopping=False, epsilon=1e-08,\n",
       "       hidden_layer_sizes=(10,), learning_rate='constant',\n",
       "       learning_rate_init=0.001, max_iter=200, momentum=0.9,\n",
       "       nesterovs_momentum=True, power_t=0.5, random_state=1, shuffle=True,\n",
       "       solver='adam', tol=0.0001, validation_fraction=0.1, verbose=False,\n",
       "       warm_start=False)"
      ]
     },
     "execution_count": 7,
     "metadata": {},
     "output_type": "execute_result"
    }
   ],
   "source": [
    "from sklearn.neural_network import MLPClassifier\n",
    "\n",
    "clf = MLPClassifier(hidden_layer_sizes=(10, ), random_state=1)\n",
    "clf.fit(Xtrain, ytrain)"
   ]
  },
  {
   "cell_type": "code",
   "execution_count": 8,
   "metadata": {
    "collapsed": false
   },
   "outputs": [
    {
     "name": "stdout",
     "output_type": "stream",
     "text": [
      "Accuracy = 0.8785606164854823\n",
      "Confusion matrix, without normalization\n",
      "[[12767     0]\n",
      " [ 1765     2]]\n"
     ]
    },
    {
     "data": {
      "image/png": "[encoded data removed]",
      "text/plain": [
       "<matplotlib.figure.Figure at 0x248bac21a58>"
      ]
     },
     "metadata": {},
     "output_type": "display_data"
    }
   ],
   "source": [
    "y_pred = clf.predict(Xtest)\n",
    "print('Accuracy = {}'.format(clf.score(Xtest, ytest)))\n",
    "cm = confusion_matrix(ytest, y_pred)\n",
    "plot_confusion_matrix(cm)"
   ]
  },
  {
   "cell_type": "markdown",
   "metadata": {},
   "source": [
    "### StandardScaler"
   ]
  },
  {
   "cell_type": "code",
   "execution_count": 9,
   "metadata": {
    "collapsed": false
   },
   "outputs": [
    {
     "data": {
      "text/plain": [
       "MLPClassifier(activation='relu', alpha=0.0001, batch_size='auto', beta_1=0.9,\n",
       "       beta_2=0.999, early_stopping=False, epsilon=1e-08,\n",
       "       hidden_layer_sizes=(10,), learning_rate='constant',\n",
       "       learning_rate_init=0.001, max_iter=200, momentum=0.9,\n",
       "       nesterovs_momentum=True, power_t=0.5, random_state=1, shuffle=True,\n",
       "       solver='adam', tol=0.0001, validation_fraction=0.1, verbose=False,\n",
       "       warm_start=False)"
      ]
     },
     "execution_count": 9,
     "metadata": {},
     "output_type": "execute_result"
    }
   ],
   "source": [
    "from sklearn.preprocessing import StandardScaler\n",
    "scaler = StandardScaler()\n",
    "scaler.fit(Xtrain)\n",
    "Xtrain1 = scaler.transform(Xtrain)\n",
    "Xtest1 = scaler.transform(Xtest)\n",
    "\n",
    "clf1 = MLPClassifier(hidden_layer_sizes=(10, ), random_state=1)\n",
    "clf1.fit(Xtrain1, ytrain)"
   ]
  },
  {
   "cell_type": "code",
   "execution_count": 10,
   "metadata": {
    "collapsed": false
   },
   "outputs": [
    {
     "name": "stdout",
     "output_type": "stream",
     "text": [
      "Accuracy = 0.8785606164854823\n",
      "Confusion matrix, without normalization\n",
      "[[12743    24]\n",
      " [ 1741    26]]\n"
     ]
    },
    {
     "data": {
      "image/png": "[encoded data removed]",
      "text/plain": [
       "<matplotlib.figure.Figure at 0x248bb9cfb70>"
      ]
     },
     "metadata": {},
     "output_type": "display_data"
    }
   ],
   "source": [
    "y_pred = clf1.predict(Xtest1)\n",
    "print('Accuracy = {}'.format(clf1.score(Xtest1, ytest)))\n",
    "cm = confusion_matrix(ytest, y_pred)\n",
    "plot_confusion_matrix(cm)"
   ]
  },
  {
   "cell_type": "markdown",
   "metadata": {},
   "source": [
    "### Unbiased input"
   ]
  },
  {
   "cell_type": "code",
   "execution_count": 11,
   "metadata": {
    "collapsed": false
   },
   "outputs": [],
   "source": [
    "# Define unbiased batches\n",
    "def split_bias(X, y, test_size=0.2):\n",
    "    sample_size = y.sum()\n",
    "    idx_bad = (y == 1)\n",
    "    X['IsBadBuy'] = y\n",
    "    # Bad cars\n",
    "    Xbad = X[idx_bad].sample(sample_size)\n",
    "    # Good cars\n",
    "    Xgood = X[~idx_bad].sample(sample_size)\n",
    "    X = Xbad.append(Xgood)\n",
    "    y = X['IsBadBuy']\n",
    "    X = X.drop('IsBadBuy', 1)\n",
    "\n",
    "    Xtrain, Xtest, ytrain, ytest = train_test_split(X, y, test_size=test_size, random_state=1)\n",
    "    return Xtrain, Xtest, ytrain, ytest"
   ]
  },
  {
   "cell_type": "code",
   "execution_count": 12,
   "metadata": {
    "collapsed": false
   },
   "outputs": [
    {
     "data": {
      "text/plain": [
       "(14310, 105)"
      ]
     },
     "execution_count": 12,
     "metadata": {},
     "output_type": "execute_result"
    }
   ],
   "source": [
    "Xtrain, Xtest, ytrain, ytest = split_bias(encoded_features, target)\n",
    "(len(Xtrain) + len(Xtest))/2\n",
    "Xtrain.shape"
   ]
  },
  {
   "cell_type": "code",
   "execution_count": 29,
   "metadata": {
    "collapsed": false
   },
   "outputs": [
    {
     "data": {
      "text/plain": [
       "MLPClassifier(activation='relu', alpha=0.0001, batch_size='auto', beta_1=0.9,\n",
       "       beta_2=0.999, early_stopping=False, epsilon=1e-08,\n",
       "       hidden_layer_sizes=(10,), learning_rate='constant',\n",
       "       learning_rate_init=0.001, max_iter=200, momentum=0.9,\n",
       "       nesterovs_momentum=True, power_t=0.5, random_state=0, shuffle=True,\n",
       "       solver='adam', tol=1e-07, validation_fraction=0.1, verbose=False,\n",
       "       warm_start=False)"
      ]
     },
     "execution_count": 29,
     "metadata": {},
     "output_type": "execute_result"
    }
   ],
   "source": [
    "from sklearn.neural_network import MLPClassifier\n",
    "from sklearn.preprocessing import StandardScaler\n",
    "\n",
    "scaler = StandardScaler()\n",
    "scaler.fit(Xtrain)\n",
    "Xtrain1 = scaler.transform(Xtrain)\n",
    "Xtest1 = scaler.transform(Xtest)\n",
    "\n",
    "clf2 = MLPClassifier(hidden_layer_sizes=(10,), tol=0.0000001, random_state=0)\n",
    "clf2.fit(Xtrain1, ytrain)"
   ]
  },
  {
   "cell_type": "code",
   "execution_count": 32,
   "metadata": {
    "collapsed": false
   },
   "outputs": [
    {
     "name": "stdout",
     "output_type": "stream",
     "text": [
      "Accuracy = 0.6678546470999301\n",
      "Confusion matrix, without normalization\n",
      "[[4734 2404]\n",
      " [2349 4823]]\n"
     ]
    },
    {
     "data": {
      "image/png": "[encoded data removed]",
      "text/plain": [
       "<matplotlib.figure.Figure at 0x248bc1be668>"
      ]
     },
     "metadata": {},
     "output_type": "display_data"
    }
   ],
   "source": [
    "# Training\n",
    "y_pred = clf2.predict(Xtrain1)\n",
    "print('Accuracy = {}'.format(clf2.score(Xtrain1, ytrain)))\n",
    "cm = confusion_matrix(ytrain, y_pred)\n",
    "plot_confusion_matrix(cm, title='Training')"
   ]
  },
  {
   "cell_type": "code",
   "execution_count": 33,
   "metadata": {
    "collapsed": false
   },
   "outputs": [
    {
     "name": "stdout",
     "output_type": "stream",
     "text": [
      "Accuracy = 0.6134712129681387\n",
      "Confusion matrix, without normalization\n",
      "[[1080  726]\n",
      " [ 657 1115]]\n"
     ]
    },
    {
     "data": {
      "image/png": "[encoded data removed]",
      "text/plain": [
       "<matplotlib.figure.Figure at 0x248bbc06a20>"
      ]
     },
     "metadata": {},
     "output_type": "display_data"
    }
   ],
   "source": [
    "# Testing\n",
    "y_pred = clf2.predict(Xtest1)\n",
    "print('Accuracy = {}'.format(clf2.score(Xtest1, ytest)))\n",
    "cm = confusion_matrix(ytest, y_pred)\n",
    "plot_confusion_matrix(cm, title='Testing')"
   ]
  }
 ],
 "metadata": {
  "kernelspec": {
   "display_name": "Python [default]",
   "language": "python",
   "name": "python3"
  },
  "language_info": {
   "codemirror_mode": {
    "name": "ipython",
    "version": 3
   },
   "file_extension": ".py",
   "mimetype": "text/x-python",
   "name": "python",
   "nbconvert_exporter": "python",
   "pygments_lexer": "ipython3",
   "version": "3.5.2"
  }
 },
 "nbformat": 4,
 "nbformat_minor": 2
}
