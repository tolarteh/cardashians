{
 "cells": [
  {
   "cell_type": "code",
   "execution_count": 5,
   "metadata": {
    "collapsed": true
   },
   "outputs": [],
   "source": [
    "import pandas as pd\n",
    "\n",
    "from sklearn.model_selection import train_test_split"
   ]
  },
  {
   "cell_type": "markdown",
   "metadata": {},
   "source": [
    "### Relevant features\n",
    "Review **prob_bad** function to count correctly NaN\n",
    "\n",
    "(Relevance 1: good 3: bad)\n",
    "\n",
    "- (1) VehicleYear == VehicleAge\\*\n",
    "- (1) VehOdo: check correlation with the VehicleAge\n",
    "- (1) VNST: check inside ZIP codes how it behaves\n",
    "- (1) Size: SUV are bad, sports shame on you\n",
    "- (2) Make: check the best ones and the worst ones\n",
    "- (2) Auction = 'ADESA'\n",
    "- (?) WarrantyCost: continuous\n",
    "\n",
    "\n",
    "Not used for now:\n",
    "- (1) TopThreeAmericanName: group of Make\n",
    "- (2) PurchDate: check year and month\n",
    "- (2) PRIMEUNIT: if filled seems better\n",
    "- (2) AUCGUART: GREEN is good\n",
    "- (2) Model: try to combine maker and model (probability)\n",
    "- (2) Trim: Same as model\n",
    "- (2) WheelTypeID == WheelType\\* : 'Special' seems slightly bad\n",
    "- (2) VNZIP1 in combination with VNST\n",
    "- (3) SubModel: same as model\n",
    "- (-) Color: no relevance\n",
    "- (3) Transmission: Manual is slighly better\n",
    "- (-) Nationality: Country of the Make, check if 1-1\n",
    "- (?) MMR : continuous data\n",
    "- (?) BYRNO: goes hand in hand with Auction?\n",
    "- (?) VehBCost: continuous\n",
    "- (3) IsOnlineSale: online is sliiiiigghtly better"
   ]
  },
  {
   "cell_type": "code",
   "execution_count": 3,
   "metadata": {
    "collapsed": false
   },
   "outputs": [
    {
     "data": {
      "text/plain": [
       "Index(['RefId', 'IsBadBuy', 'PurchDate', 'Auction', 'VehYear', 'VehicleAge',\n",
       "       'Make', 'Model', 'Trim', 'SubModel', 'Color', 'Transmission',\n",
       "       'WheelTypeID', 'WheelType', 'VehOdo', 'Nationality', 'Size',\n",
       "       'TopThreeAmericanName', 'MMRAcquisitionAuctionAveragePrice',\n",
       "       'MMRAcquisitionAuctionCleanPrice', 'MMRAcquisitionRetailAveragePrice',\n",
       "       'MMRAcquisitonRetailCleanPrice', 'MMRCurrentAuctionAveragePrice',\n",
       "       'MMRCurrentAuctionCleanPrice', 'MMRCurrentRetailAveragePrice',\n",
       "       'MMRCurrentRetailCleanPrice', 'PRIMEUNIT', 'AUCGUART', 'BYRNO',\n",
       "       'VNZIP1', 'VNST', 'VehBCost', 'IsOnlineSale', 'WarrantyCost'],\n",
       "      dtype='object')"
      ]
     },
     "execution_count": 3,
     "metadata": {},
     "output_type": "execute_result"
    }
   ],
   "source": [
    "data = pd.read_csv('training.csv')\n",
    "data.columns"
   ]
  },
  {
   "cell_type": "code",
   "execution_count": 9,
   "metadata": {
    "collapsed": false
   },
   "outputs": [
    {
     "data": {
      "text/plain": [
       "14597"
      ]
     },
     "execution_count": 9,
     "metadata": {},
     "output_type": "execute_result"
    }
   ],
   "source": [
    "train, test = train_test_split(data, test_size=0.2, random_state=1)\n",
    "len(test)"
   ]
  }
 ],
 "metadata": {
  "kernelspec": {
   "display_name": "Python [default]",
   "language": "python",
   "name": "python3"
  },
  "language_info": {
   "codemirror_mode": {
    "name": "ipython",
    "version": 3
   },
   "file_extension": ".py",
   "mimetype": "text/x-python",
   "name": "python",
   "nbconvert_exporter": "python",
   "pygments_lexer": "ipython3",
   "version": "3.5.2"
  }
 },
 "nbformat": 4,
 "nbformat_minor": 2
}
